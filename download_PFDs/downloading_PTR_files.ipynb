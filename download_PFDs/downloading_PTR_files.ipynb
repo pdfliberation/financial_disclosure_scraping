{
 "metadata": {
  "name": ""
 },
 "nbformat": 3,
 "nbformat_minor": 0,
 "worksheets": [
  {
   "cells": [
    {
     "cell_type": "code",
     "collapsed": false,
     "input": [
      "import zipfile\n",
      "import StringIO\n",
      "import csv\n",
      "import os\n",
      "import json\n",
      "\n",
      "from glob import glob\n",
      "\n",
      "import requests\n",
      "\n",
      "from collections import Counter"
     ],
     "language": "python",
     "metadata": {},
     "outputs": [],
     "prompt_number": 14
    },
    {
     "cell_type": "code",
     "collapsed": false,
     "input": [
      "working_dir = os.getcwd()"
     ],
     "language": "python",
     "metadata": {},
     "outputs": [],
     "prompt_number": 2
    },
    {
     "cell_type": "code",
     "collapsed": false,
     "input": [
      "INFO_DIR = os.path.join(working_dir,'house_clerk_search_results')\n",
      "PDF_DIR = os.path.join(working_dir,'pdf_documents')\n",
      "DOC_DIR = os.path.join(PDF_DIR,'PTR')\n",
      "\n",
      "for d in [INFO_DIR, PDF_DIR, DOC_DIR]:\n",
      "    if not os.path.exists(d):\n",
      "        os.mkdir(d)"
     ],
     "language": "python",
     "metadata": {},
     "outputs": [],
     "prompt_number": 3
    },
    {
     "cell_type": "code",
     "collapsed": false,
     "input": [
      "def parse_row(row):\n",
      "    d = {k:v['text'] for k,v in row.iteritems()}\n",
      "    d.update({u'url': row['Name']['url']})\n",
      "    return d"
     ],
     "language": "python",
     "metadata": {},
     "outputs": [],
     "prompt_number": 11
    },
    {
     "cell_type": "code",
     "collapsed": false,
     "input": [
      "all_rows = []\n",
      "\n",
      "for jfile in glob(os.path.join(INFO_DIR,'*')):\n",
      "    rows = json.load(open(jfile,'r'))\n",
      "    parsed_rows = [ parse_row(row) for row in rows ]\n",
      "    all_rows.extend(parsed_rows)"
     ],
     "language": "python",
     "metadata": {},
     "outputs": [],
     "prompt_number": 12
    },
    {
     "cell_type": "code",
     "collapsed": false,
     "input": [
      "all_rows[0:5]"
     ],
     "language": "python",
     "metadata": {},
     "outputs": [
      {
       "metadata": {},
       "output_type": "pyout",
       "prompt_number": 13,
       "text": [
        "[{u'Filing': u'PTR Original',\n",
        "  u'Filing Year': u'2013',\n",
        "  u'Name': u'CAMPBELL, HON.JOHN',\n",
        "  u'Office': u'CA45',\n",
        "  u'url': u'http://clerk.house.gov/public_disc/ptr-pdfs/2013/2001461.pdf'},\n",
        " {u'Filing': u'PTR Original',\n",
        "  u'Filing Year': u'2013',\n",
        "  u'Name': u'CAMPBELL, HON.JOHN',\n",
        "  u'Office': u'CA45',\n",
        "  u'url': u'http://clerk.house.gov/public_disc/ptr-pdfs/2013/2001872.pdf'},\n",
        " {u'Filing': u'PTR Original',\n",
        "  u'Filing Year': u'2013',\n",
        "  u'Name': u'CAMPBELL, HON.JOHN',\n",
        "  u'Office': u'CA45',\n",
        "  u'url': u'http://clerk.house.gov/public_disc/ptr-pdfs/2013/2002157.pdf'},\n",
        " {u'Filing': u'PTR Original',\n",
        "  u'Filing Year': u'2013',\n",
        "  u'Name': u'CAMPBELL, HON.JOHN',\n",
        "  u'Office': u'CA45',\n",
        "  u'url': u'http://clerk.house.gov/public_disc/ptr-pdfs/2013/2002158.pdf'},\n",
        " {u'Filing': u'FD Original',\n",
        "  u'Filing Year': u'2007',\n",
        "  u'Name': u'CAMP, HON.DAVE',\n",
        "  u'Office': u'MI04',\n",
        "  u'url': u'http://clerk.house.gov/public_disc/financial-pdfs/2008/8135645.pdf'}]"
       ]
      }
     ],
     "prompt_number": 13
    },
    {
     "cell_type": "code",
     "collapsed": false,
     "input": [
      "c = Counter([r['Filing'] for r in all_rows])\n",
      "c"
     ],
     "language": "python",
     "metadata": {},
     "outputs": [
      {
       "metadata": {},
       "output_type": "pyout",
       "prompt_number": 16,
       "text": [
        "Counter({u'FD Original': 2648, u'PTR Original': 933, u'FD Amendment': 889, u'Termination': 242, u'Extension': 233, u'PTR Amendment': 43, u'Gift Waiver': 5, u'Term. Exemption': 5, u'PTR Waiver': 3, u'Blind Trust': 2})"
       ]
      }
     ],
     "prompt_number": 16
    },
    {
     "cell_type": "code",
     "collapsed": false,
     "input": [
      "desired_filing_types = ['PTR Original', 'PTR Amendment', 'PTR Waiver']"
     ],
     "language": "python",
     "metadata": {},
     "outputs": [],
     "prompt_number": 17
    },
    {
     "cell_type": "code",
     "collapsed": false,
     "input": [
      "def download_file(url, out_filename):\n",
      "    # NOTE the stream=True parameter\n",
      "    try:\n",
      "        r = requests.get(url, stream=True)\n",
      "        with open(out_filename, 'wb') as f:\n",
      "            for chunk in r.iter_content(chunk_size=1024): \n",
      "                if chunk: # filter out keep-alive new chunks\n",
      "                    f.write(chunk)\n",
      "                    f.flush()\n",
      "        return out_filename\n",
      "    except:\n",
      "        sys.stderr.write('download error: {}\\n'.format(url))\n",
      "        raise"
     ],
     "language": "python",
     "metadata": {},
     "outputs": [],
     "prompt_number": 18
    },
    {
     "cell_type": "code",
     "collapsed": false,
     "input": [
      "for row in all_rows:\n",
      "    if row['Filing'] in desired_filing_types:\n",
      "        year = row['url'].split('/')[-2]\n",
      "        out_name = row['url'].split('/')[-1]\n",
      "        out_dir = os.path.join(DOC_DIR,year)\n",
      "        if not os.path.exists(out_dir):\n",
      "            os.mkdir(out_dir)\n",
      "        out_location = os.path.join(out_dir,out_name)\n",
      "        if not os.path.exists(out_location):\n",
      "            download_file(row['url'], out_location)"
     ],
     "language": "python",
     "metadata": {},
     "outputs": [],
     "prompt_number": 21
    },
    {
     "cell_type": "code",
     "collapsed": false,
     "input": [],
     "language": "python",
     "metadata": {},
     "outputs": []
    }
   ],
   "metadata": {}
  }
 ]
}