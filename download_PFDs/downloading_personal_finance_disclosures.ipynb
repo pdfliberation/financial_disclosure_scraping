{
 "metadata": {
  "name": ""
 },
 "nbformat": 3,
 "nbformat_minor": 0,
 "worksheets": [
  {
   "cells": [
    {
     "cell_type": "code",
     "collapsed": false,
     "input": [
      "import requests\n",
      "import zipfile\n",
      "import StringIO\n",
      "import csv\n",
      "import os"
     ],
     "language": "python",
     "metadata": {},
     "outputs": [],
     "prompt_number": 2
    },
    {
     "cell_type": "code",
     "collapsed": false,
     "input": [
      "working_dir = os.getcwd()"
     ],
     "language": "python",
     "metadata": {},
     "outputs": [],
     "prompt_number": 3
    },
    {
     "cell_type": "code",
     "collapsed": false,
     "input": [
      "INFO_DIR = os.path.join(working_dir,'filing_info')\n",
      "DOC_DIR = os.path.join(working_dir,'pdf_documents')\n",
      "\n",
      "for d in [INFO_DIR, DOC_DIR]:\n",
      "    if not os.path.exists(d):\n",
      "        os.mkdir(d)"
     ],
     "language": "python",
     "metadata": {},
     "outputs": [],
     "prompt_number": 4
    },
    {
     "cell_type": "markdown",
     "metadata": {},
     "source": [
      "0. Download list of doc ids from clerk.house.gov"
     ]
    },
    {
     "cell_type": "code",
     "collapsed": false,
     "input": [
      "listing_urls = \"http://clerk.house.gov/public_disc/financial-pdfs/{year}FD.ZIP\""
     ],
     "language": "python",
     "metadata": {},
     "outputs": [],
     "prompt_number": 5
    },
    {
     "cell_type": "markdown",
     "metadata": {},
     "source": [
      "even though forms change over time, we're going to get all of them.  NB, though"
     ]
    },
    {
     "cell_type": "code",
     "collapsed": false,
     "input": [],
     "language": "python",
     "metadata": {},
     "outputs": [],
     "prompt_number": 13
    },
    {
     "cell_type": "code",
     "collapsed": false,
     "input": [
      "for year in years_available:\n",
      "    r = requests.get(listing_urls.format(year=year))\n",
      "    z = zipfile.ZipFile(StringIO.StringIO(r.content))\n",
      "    z.extract('{year}FD.txt'.format(year=year), path=INFO_DIR)"
     ],
     "language": "python",
     "metadata": {},
     "outputs": [],
     "prompt_number": 7
    },
    {
     "cell_type": "code",
     "collapsed": false,
     "input": [
      "!tree"
     ],
     "language": "python",
     "metadata": {},
     "outputs": [
      {
       "output_type": "stream",
       "stream": "stdout",
       "text": [
        "\u001b[01;34m.\u001b[00m\r\n",
        "\u251c\u2500\u2500 downloading_personal_finance_disclosures.ipynb\r\n",
        "\u251c\u2500\u2500 downloading_personal_finance_disclosures.py\r\n",
        "\u251c\u2500\u2500 \u001b[01;34mfiling_info\u001b[00m\r\n",
        "\u2502\u00a0\u00a0 \u251c\u2500\u2500 2008FD.txt\r\n",
        "\u2502\u00a0\u00a0 \u251c\u2500\u2500 2009FD.txt\r\n",
        "\u2502\u00a0\u00a0 \u251c\u2500\u2500 2010FD.txt\r\n",
        "\u2502\u00a0\u00a0 \u251c\u2500\u2500 2011FD.txt\r\n",
        "\u2502\u00a0\u00a0 \u251c\u2500\u2500 2012FD.txt\r\n",
        "\u2502\u00a0\u00a0 \u251c\u2500\u2500 2013FD.csv\r\n",
        "\u2502\u00a0\u00a0 \u2514\u2500\u2500 2013FD.txt\r\n",
        "\u2514\u2500\u2500 \u001b[01;34mpdf_documents\u001b[00m\r\n",
        "    \u251c\u2500\u2500 \u001b[01;34m2008\u001b[00m\r\n",
        "    \u251c\u2500\u2500 \u001b[01;34m2009\u001b[00m\r\n",
        "    \u251c\u2500\u2500 \u001b[01;34m2010\u001b[00m\r\n",
        "    \u2514\u2500\u2500 \u001b[01;34m2011\u001b[00m\r\n",
        "\r\n",
        "6 directories, 9 files\r\n"
       ]
      }
     ],
     "prompt_number": 8
    },
    {
     "cell_type": "code",
     "collapsed": false,
     "input": [
      "doc_url = \"http://clerk.house.gov/public_disc/financial-pdfs/{year}/{doc_id}.pdf\"\n",
      "\n",
      "def download_file(url, out_filename):\n",
      "    # NOTE the stream=True parameter\n",
      "    try:\n",
      "        r = requests.get(url, stream=True)\n",
      "        with open(out_filename, 'wb') as f:\n",
      "            for chunk in r.iter_content(chunk_size=1024): \n",
      "                if chunk: # filter out keep-alive new chunks\n",
      "                    f.write(chunk)\n",
      "                    f.flush()\n",
      "        return out_filename\n",
      "    except:\n",
      "        sys.stderr.write('download error: {}\\n'.format(url))\n",
      "        raise\n",
      "\n",
      "def read_info_file(info_file):\n",
      "    my_dialect = csv.Sniffer().sniff(open(info_file).read())\n",
      "    listing_reader = csv.DictReader(open(info_file), dialect=my_dialect)\n",
      "    return listing_reader\n",
      "\n",
      "def get_pdfs_for_year(info_year):\n",
      "    sys.stderr.write('starting {}\\n'.format(info_year))\n",
      "    info_file = os.path.join(INFO_DIR,'{}FD.txt'.format(info_year))\n",
      "    docs_info = [row for row in read_info_file(info_file)]\n",
      "    downloaded_files = []\n",
      "    years = list(set([di['Year'] for di in docs_info]))\n",
      "    for y in years:\n",
      "        if not os.path.join(DOC_DIR,str(y)):\n",
      "            os.mkdir(os.path.join(DOC_DIR,str(y)))\n",
      "    for doc_info in docs_info:\n",
      "        sys.stderr.write('\\b'*20)\n",
      "        sys.stderr.write(doc_info['DocID'])\n",
      "        _dir = os.path.join(DOC_DIR,str(y))\n",
      "        out_filename = os.path.join(_dir, doc_info['DocID']+'.pdf')\n",
      "        download_file(doc_url.format(year=doc_info['Year'], doc_id=doc_info['DocID']), out_filename)\n",
      "        downloaded_files.append(out_filename)\n",
      "    sys.stderr.write('\\nDone {}\\n'.format(info_year))\n"
     ],
     "language": "python",
     "metadata": {},
     "outputs": [],
     "prompt_number": 15
    },
    {
     "cell_type": "code",
     "collapsed": false,
     "input": [
      "years_available = xrange(2010,2014)\n",
      "for year in years_available:\n",
      "    get_pdfs_for_year(year)"
     ],
     "language": "python",
     "metadata": {},
     "outputs": [
      {
       "output_type": "stream",
       "stream": "stderr",
       "text": [
        "starting 2010\n",
        "\b\b\b\b\b\b\b\b\b\b\b\b\b\b\b\b\b\b\b\b"
       ]
      },
      {
       "output_type": "stream",
       "stream": "stderr",
       "text": [
        "8147970\b\b\b\b\b\b\b\b\b\b\b\b\b\b\b\b\b\b\b\b"
       ]
      },
      {
       "output_type": "stream",
       "stream": "stderr",
       "text": [
        "8146744\b\b\b\b\b\b\b\b\b\b\b\b\b\b\b\b\b\b\b\b"
       ]
      },
      {
       "output_type": "stream",
       "stream": "stderr",
       "text": [
        "8146751\b\b\b\b\b\b\b\b\b\b\b\b\b\b\b\b\b\b\b\b"
       ]
      },
      {
       "output_type": "stream",
       "stream": "stderr",
       "text": [
        "8148020\b\b\b\b\b\b\b\b\b\b\b\b\b\b\b\b\b\b\b\b"
       ]
      },
      {
       "output_type": "stream",
       "stream": "stderr",
       "text": [
        "8148023\b\b\b\b\b\b\b\b\b\b\b\b\b\b\b\b\b\b\b\b"
       ]
      },
      {
       "output_type": "stream",
       "stream": "stderr",
       "text": [
        "8147112\b\b\b\b\b\b\b\b\b\b\b\b\b\b\b\b\b\b\b\b"
       ]
      },
      {
       "output_type": "stream",
       "stream": "stderr",
       "text": [
        "8147117\b\b\b\b\b\b\b\b\b\b\b\b\b\b\b\b\b\b\b\b"
       ]
      },
      {
       "output_type": "stream",
       "stream": "stderr",
       "text": [
        "8147119\b\b\b\b\b\b\b\b\b\b\b\b\b\b\b\b\b\b\b\b"
       ]
      },
      {
       "output_type": "stream",
       "stream": "stderr",
       "text": [
        "8148746\b\b\b\b\b\b\b\b\b\b\b\b\b\b\b\b\b\b\b\b"
       ]
      },
      {
       "output_type": "stream",
       "stream": "stderr",
       "text": [
        "8148929\b\b\b\b\b\b\b\b\b\b\b\b\b\b\b\b\b\b\b\b"
       ]
      },
      {
       "output_type": "stream",
       "stream": "stderr",
       "text": [
        "8148184\b\b\b\b\b\b\b\b\b\b\b\b\b\b\b\b\b\b\b\b"
       ]
      },
      {
       "output_type": "stream",
       "stream": "stderr",
       "text": [
        "8147149\b\b\b\b\b\b\b\b\b\b\b\b\b\b\b\b\b\b\b\b"
       ]
      },
      {
       "output_type": "stream",
       "stream": "stderr",
       "text": [
        "8149206\b\b\b\b\b\b\b\b\b\b\b\b\b\b\b\b\b\b\b\b"
       ]
      },
      {
       "output_type": "stream",
       "stream": "stderr",
       "text": [
        "8147212\b\b\b\b\b\b\b\b\b\b\b\b\b\b\b\b\b\b\b\b"
       ]
      },
      {
       "output_type": "stream",
       "stream": "stderr",
       "text": [
        "8203199\b\b\b\b\b\b\b\b\b\b\b\b\b\b\b\b\b\b\b\b"
       ]
      },
      {
       "output_type": "stream",
       "stream": "stderr",
       "text": [
        "9100148\b\b\b\b\b\b\b\b\b\b\b\b\b\b\b\b\b\b\b\b"
       ]
      },
      {
       "output_type": "stream",
       "stream": "stderr",
       "text": [
        "8147228\b\b\b\b\b\b\b\b\b\b\b\b\b\b\b\b\b\b\b\b"
       ]
      },
      {
       "output_type": "stream",
       "stream": "stderr",
       "text": [
        "8147233\b\b\b\b\b\b\b\b\b\b\b\b\b\b\b\b\b\b\b\b"
       ]
      },
      {
       "output_type": "stream",
       "stream": "stderr",
       "text": [
        "8149296\b\b\b\b\b\b\b\b\b\b\b\b\b\b\b\b\b\b\b\b"
       ]
      },
      {
       "output_type": "stream",
       "stream": "stderr",
       "text": [
        "8149312\b\b\b\b\b\b\b\b\b\b\b\b\b\b\b\b\b\b\b\b"
       ]
      },
      {
       "output_type": "stream",
       "stream": "stderr",
       "text": [
        "8149074\b\b\b\b\b\b\b\b\b\b\b\b\b\b\b\b\b\b\b\b"
       ]
      },
      {
       "output_type": "stream",
       "stream": "stderr",
       "text": [
        "8148448\b\b\b\b\b\b\b\b\b\b\b\b\b\b\b\b\b\b\b\b"
       ]
      },
      {
       "output_type": "stream",
       "stream": "stderr",
       "text": [
        "8149029\b\b\b\b\b\b\b\b\b\b\b\b\b\b\b\b\b\b\b\b"
       ]
      },
      {
       "output_type": "stream",
       "stream": "stderr",
       "text": [
        "8148469\b\b\b\b\b\b\b\b\b\b\b\b\b\b\b\b\b\b\b\b"
       ]
      },
      {
       "output_type": "stream",
       "stream": "stderr",
       "text": [
        "8147251\b\b\b\b\b\b\b\b\b\b\b\b\b\b\b\b\b\b\b\b"
       ]
      },
      {
       "output_type": "stream",
       "stream": "stderr",
       "text": [
        "8147891\b\b\b\b\b\b\b\b\b\b\b\b\b\b\b\b\b\b\b\b"
       ]
      },
      {
       "output_type": "stream",
       "stream": "stderr",
       "text": [
        "8149258\b\b\b\b\b\b\b\b\b\b\b\b\b\b\b\b\b\b\b\b"
       ]
      },
      {
       "output_type": "stream",
       "stream": "stderr",
       "text": [
        "8147261\b\b\b\b\b\b\b\b\b\b\b\b\b\b\b\b\b\b\b\b"
       ]
      },
      {
       "output_type": "stream",
       "stream": "stderr",
       "text": [
        "8147262\b\b\b\b\b\b\b\b\b\b\b\b\b\b\b\b\b\b\b\b"
       ]
      },
      {
       "output_type": "stream",
       "stream": "stderr",
       "text": [
        "8147268\b\b\b\b\b\b\b\b\b\b\b\b\b\b\b\b\b\b\b\b"
       ]
      },
      {
       "output_type": "stream",
       "stream": "stderr",
       "text": [
        "8148765\b\b\b\b\b\b\b\b\b\b\b\b\b\b\b\b\b\b\b\b"
       ]
      },
      {
       "output_type": "stream",
       "stream": "stderr",
       "text": [
        "8147272\b\b\b\b\b\b\b\b\b\b\b\b\b\b\b\b\b\b\b\b"
       ]
      },
      {
       "output_type": "stream",
       "stream": "stderr",
       "text": [
        "8147285\b\b\b\b\b\b\b\b\b\b\b\b\b\b\b\b\b\b\b\b"
       ]
      },
      {
       "output_type": "stream",
       "stream": "stderr",
       "text": [
        "8147291\b\b\b\b\b\b\b\b\b\b\b\b\b\b\b\b\b\b\b\b"
       ]
      },
      {
       "output_type": "stream",
       "stream": "stderr",
       "text": [
        "8147293\b\b\b\b\b\b\b\b\b\b\b\b\b\b\b\b\b\b\b\b"
       ]
      },
      {
       "output_type": "stream",
       "stream": "stderr",
       "text": [
        "8147295\b\b\b\b\b\b\b\b\b\b\b\b\b\b\b\b\b\b\b\b"
       ]
      },
      {
       "output_type": "stream",
       "stream": "stderr",
       "text": [
        "8147842\b\b\b\b\b\b\b\b\b\b\b\b\b\b\b\b\b\b\b\b"
       ]
      },
      {
       "output_type": "stream",
       "stream": "stderr",
       "text": [
        "8147311\b\b\b\b\b\b\b\b\b\b\b\b\b\b\b\b\b\b\b\b"
       ]
      },
      {
       "output_type": "stream",
       "stream": "stderr",
       "text": [
        "8147314\b\b\b\b\b\b\b\b\b\b\b\b\b\b\b\b\b\b\b\b"
       ]
      },
      {
       "output_type": "stream",
       "stream": "stderr",
       "text": [
        "8147315\b\b\b\b\b\b\b\b\b\b\b\b\b\b\b\b\b\b\b\b"
       ]
      },
      {
       "output_type": "stream",
       "stream": "stderr",
       "text": [
        "8147320\b\b\b\b\b\b\b\b\b\b\b\b\b\b\b\b\b\b\b\b"
       ]
      },
      {
       "output_type": "stream",
       "stream": "stderr",
       "text": [
        "8147980\b\b\b\b\b\b\b\b\b\b\b\b\b\b\b\b\b\b\b\b"
       ]
      },
      {
       "output_type": "stream",
       "stream": "stderr",
       "text": [
        "8147329\b\b\b\b\b\b\b\b\b\b\b\b\b\b\b\b\b\b\b\b"
       ]
      },
      {
       "output_type": "stream",
       "stream": "stderr",
       "text": [
        "8147331\b\b\b\b\b\b\b\b\b\b\b\b\b\b\b\b\b\b\b\b"
       ]
      },
      {
       "output_type": "stream",
       "stream": "stderr",
       "text": [
        "8147334\b\b\b\b\b\b\b\b\b\b\b\b\b\b\b\b\b\b\b\b"
       ]
      },
      {
       "output_type": "stream",
       "stream": "stderr",
       "text": [
        "8148024\b\b\b\b\b\b\b\b\b\b\b\b\b\b\b\b\b\b\b\b"
       ]
      },
      {
       "output_type": "stream",
       "stream": "stderr",
       "text": [
        "8147607\b\b\b\b\b\b\b\b\b\b\b\b\b\b\b\b\b\b\b\b"
       ]
      },
      {
       "output_type": "stream",
       "stream": "stderr",
       "text": [
        "8147341\b\b\b\b\b\b\b\b\b\b\b\b\b\b\b\b\b\b\b\b"
       ]
      },
      {
       "output_type": "stream",
       "stream": "stderr",
       "text": [
        "8147350\b\b\b\b\b\b\b\b\b\b\b\b\b\b\b\b\b\b\b\b"
       ]
      },
      {
       "output_type": "stream",
       "stream": "stderr",
       "text": [
        "8200281\b\b\b\b\b\b\b\b\b\b\b\b\b\b\b\b\b\b\b\b"
       ]
      },
      {
       "output_type": "stream",
       "stream": "stderr",
       "text": [
        "8147746\b\b\b\b\b\b\b\b\b\b\b\b\b\b\b\b\b\b\b\b"
       ]
      },
      {
       "output_type": "stream",
       "stream": "stderr",
       "text": [
        "8146743\b\b\b\b\b\b\b\b\b\b\b\b\b\b\b\b\b\b\b\b"
       ]
      },
      {
       "output_type": "stream",
       "stream": "stderr",
       "text": [
        "8148021\b\b\b\b\b\b\b\b\b\b\b\b\b\b\b\b\b\b\b\b"
       ]
      },
      {
       "output_type": "stream",
       "stream": "stderr",
       "text": [
        "8148467\b\b\b\b\b\b\b\b\b\b\b\b\b\b\b\b\b\b\b\b"
       ]
      },
      {
       "output_type": "stream",
       "stream": "stderr",
       "text": [
        "8146756\b\b\b\b\b\b\b\b\b\b\b\b\b\b\b\b\b\b\b\b"
       ]
      },
      {
       "output_type": "stream",
       "stream": "stderr",
       "text": [
        "8146762\b\b\b\b\b\b\b\b\b\b\b\b\b\b\b\b\b\b\b\b"
       ]
      },
      {
       "output_type": "stream",
       "stream": "stderr",
       "text": [
        "8146767\b\b\b\b\b\b\b\b\b\b\b\b\b\b\b\b\b\b\b\b"
       ]
      },
      {
       "output_type": "stream",
       "stream": "stderr",
       "text": [
        "8146772\b\b\b\b\b\b\b\b\b\b\b\b\b\b\b\b\b\b\b\b"
       ]
      },
      {
       "output_type": "stream",
       "stream": "stderr",
       "text": [
        "8147109\b\b\b\b\b\b\b\b\b\b\b\b\b\b\b\b\b\b\b\b"
       ]
      },
      {
       "output_type": "stream",
       "stream": "stderr",
       "text": [
        "8203335\b\b\b\b\b\b\b\b\b\b\b\b\b\b\b\b\b\b\b\b"
       ]
      },
      {
       "output_type": "stream",
       "stream": "stderr",
       "text": [
        "8147118\b\b\b\b\b\b\b\b\b\b\b\b\b\b\b\b\b\b\b\b"
       ]
      },
      {
       "output_type": "stream",
       "stream": "stderr",
       "text": [
        "8147120\b\b\b\b\b\b\b\b\b\b\b\b\b\b\b\b\b\b\b\b"
       ]
      },
      {
       "output_type": "stream",
       "stream": "stderr",
       "text": [
        "8147127\b\b\b\b\b\b\b\b\b\b\b\b\b\b\b\b\b\b\b\b"
       ]
      },
      {
       "output_type": "stream",
       "stream": "stderr",
       "text": [
        "8147129\b\b\b\b\b\b\b\b\b\b\b\b\b\b\b\b\b\b\b\b"
       ]
      },
      {
       "output_type": "stream",
       "stream": "stderr",
       "text": [
        "8147141\b\b\b\b\b\b\b\b\b\b\b\b\b\b\b\b\b\b\b\b"
       ]
      },
      {
       "output_type": "stream",
       "stream": "stderr",
       "text": [
        "8147605\b\b\b\b\b\b\b\b\b\b\b\b\b\b\b\b\b\b\b\b"
       ]
      },
      {
       "output_type": "stream",
       "stream": "stderr",
       "text": [
        "8147827\b\b\b\b\b\b\b\b\b\b\b\b\b\b\b\b\b\b\b\b"
       ]
      },
      {
       "output_type": "stream",
       "stream": "stderr",
       "text": [
        "8147606\b\b\b\b\b\b\b\b\b\b\b\b\b\b\b\b\b\b\b\b"
       ]
      },
      {
       "output_type": "stream",
       "stream": "stderr",
       "text": [
        "8147156\b\b\b\b\b\b\b\b\b\b\b\b\b\b\b\b\b\b\b\b"
       ]
      },
      {
       "output_type": "stream",
       "stream": "stderr",
       "text": [
        "8147202\b\b\b\b\b\b\b\b\b\b\b\b\b\b\b\b\b\b\b\b"
       ]
      },
      {
       "output_type": "stream",
       "stream": "stderr",
       "text": [
        "8147211\b\b\b\b\b\b\b\b\b\b\b\b\b\b\b\b\b\b\b\b"
       ]
      },
      {
       "output_type": "stream",
       "stream": "stderr",
       "text": [
        "8203315\b\b\b\b\b\b\b\b\b\b\b\b\b\b\b\b\b\b\b\b"
       ]
      },
      {
       "output_type": "stream",
       "stream": "stderr",
       "text": [
        "8147231\b\b\b\b\b\b\b\b\b\b\b\b\b\b\b\b\b\b\b\b"
       ]
      },
      {
       "output_type": "stream",
       "stream": "stderr",
       "text": [
        "8147718\b\b\b\b\b\b\b\b\b\b\b\b\b\b\b\b\b\b\b\b"
       ]
      },
      {
       "output_type": "stream",
       "stream": "stderr",
       "text": [
        "8147236\b\b\b\b\b\b\b\b\b\b\b\b\b\b\b\b\b\b\b\b"
       ]
      },
      {
       "output_type": "stream",
       "stream": "stderr",
       "text": [
        "8148882\b\b\b\b\b\b\b\b\b\b\b\b\b\b\b\b\b\b\b\b"
       ]
      },
      {
       "output_type": "stream",
       "stream": "stderr",
       "text": [
        "8147682\b\b\b\b\b\b\b\b\b\b\b\b\b\b\b\b\b\b\b\b"
       ]
      },
      {
       "output_type": "stream",
       "stream": "stderr",
       "text": [
        "8147254\b\b\b\b\b\b\b\b\b\b\b\b\b\b\b\b\b\b\b\b"
       ]
      },
      {
       "output_type": "stream",
       "stream": "stderr",
       "text": [
        "8147259\b\b\b\b\b\b\b\b\b\b\b\b\b\b\b\b\b\b\b\b"
       ]
      },
      {
       "output_type": "stream",
       "stream": "stderr",
       "text": [
        "8147264\b\b\b\b\b\b\b\b\b\b\b\b\b\b\b\b\b\b\b\b"
       ]
      },
      {
       "output_type": "stream",
       "stream": "stderr",
       "text": [
        "8147269\b\b\b\b\b\b\b\b\b\b\b\b\b\b\b\b\b\b\b\b"
       ]
      },
      {
       "output_type": "stream",
       "stream": "stderr",
       "text": [
        "8147274\b\b\b\b\b\b\b\b\b\b\b\b\b\b\b\b\b\b\b\b"
       ]
      },
      {
       "output_type": "stream",
       "stream": "stderr",
       "text": [
        "8148449\b\b\b\b\b\b\b\b\b\b\b\b\b\b\b\b\b\b\b\b"
       ]
      },
      {
       "output_type": "stream",
       "stream": "stderr",
       "text": [
        "8148074\b\b\b\b\b\b\b\b\b\b\b\b\b\b\b\b\b\b\b\b"
       ]
      },
      {
       "output_type": "stream",
       "stream": "stderr",
       "text": [
        "8147277\b\b\b\b\b\b\b\b\b\b\b\b\b\b\b\b\b\b\b\b"
       ]
      },
      {
       "output_type": "stream",
       "stream": "stderr",
       "text": [
        "8147278\b\b\b\b\b\b\b\b\b\b\b\b\b\b\b\b\b\b\b\b"
       ]
      },
      {
       "output_type": "stream",
       "stream": "stderr",
       "text": [
        "8200054\b\b\b\b\b\b\b\b\b\b\b\b\b\b\b\b\b\b\b\b"
       ]
      },
      {
       "output_type": "stream",
       "stream": "stderr",
       "text": [
        "8147280\b\b\b\b\b\b\b\b\b\b\b\b\b\b\b\b\b\b\b\b"
       ]
      },
      {
       "output_type": "stream",
       "stream": "stderr",
       "text": [
        "8147281\b\b\b\b\b\b\b\b\b\b\b\b\b\b\b\b\b\b\b\b"
       ]
      },
      {
       "output_type": "stream",
       "stream": "stderr",
       "text": [
        "8147282\b\b\b\b\b\b\b\b\b\b\b\b\b\b\b\b\b\b\b\b"
       ]
      },
      {
       "output_type": "stream",
       "stream": "stderr",
       "text": [
        "8148824\b\b\b\b\b\b\b\b\b\b\b\b\b\b\b\b\b\b\b\b"
       ]
      },
      {
       "output_type": "stream",
       "stream": "stderr",
       "text": [
        "8147296\b\b\b\b\b\b\b\b\b\b\b\b\b\b\b\b\b\b\b\b"
       ]
      },
      {
       "output_type": "stream",
       "stream": "stderr",
       "text": [
        "8147299\b\b\b\b\b\b\b\b\b\b\b\b\b\b\b\b\b\b\b\b"
       ]
      },
      {
       "output_type": "stream",
       "stream": "stderr",
       "text": [
        "8147303\b\b\b\b\b\b\b\b\b\b\b\b\b\b\b\b\b\b\b\b"
       ]
      },
      {
       "output_type": "stream",
       "stream": "stderr",
       "text": [
        "8147302\b\b\b\b\b\b\b\b\b\b\b\b\b\b\b\b\b\b\b\b"
       ]
      },
      {
       "output_type": "stream",
       "stream": "stderr",
       "text": [
        "8147310\b\b\b\b\b\b\b\b\b\b\b\b\b\b\b\b\b\b\b\b"
       ]
      },
      {
       "output_type": "stream",
       "stream": "stderr",
       "text": [
        "8147338\b\b\b\b\b\b\b\b\b\b\b\b\b\b\b\b\b\b\b\b"
       ]
      },
      {
       "output_type": "stream",
       "stream": "stderr",
       "text": [
        "8147608\b\b\b\b\b\b\b\b\b\b\b\b\b\b\b\b\b\b\b\b"
       ]
      },
      {
       "output_type": "stream",
       "stream": "stderr",
       "text": [
        "8147346\b\b\b\b\b\b\b\b\b\b\b\b\b\b\b\b\b\b\b\b"
       ]
      },
      {
       "output_type": "stream",
       "stream": "stderr",
       "text": [
        "8144403\b\b\b\b\b\b\b\b\b\b\b\b\b\b\b\b\b\b\b\b"
       ]
      },
      {
       "output_type": "stream",
       "stream": "stderr",
       "text": [
        "8147714\b\b\b\b\b\b\b\b\b\b\b\b\b\b\b\b\b\b\b\b"
       ]
      },
      {
       "output_type": "stream",
       "stream": "stderr",
       "text": [
        "8146066\b\b\b\b\b\b\b\b\b\b\b\b\b\b\b\b\b\b\b\b"
       ]
      },
      {
       "output_type": "stream",
       "stream": "stderr",
       "text": [
        "8146067\b\b\b\b\b\b\b\b\b\b\b\b\b\b\b\b\b\b\b\b"
       ]
      },
      {
       "output_type": "stream",
       "stream": "stderr",
       "text": [
        "8146070\b\b\b\b\b\b\b\b\b\b\b\b\b\b\b\b\b\b\b\b"
       ]
      },
      {
       "output_type": "stream",
       "stream": "stderr",
       "text": [
        "8204063\b\b\b\b\b\b\b\b\b\b\b\b\b\b\b\b\b\b\b\b"
       ]
      },
      {
       "output_type": "stream",
       "stream": "stderr",
       "text": [
        "8146753\b\b\b\b\b\b\b\b\b\b\b\b\b\b\b\b\b\b\b\b"
       ]
      },
      {
       "output_type": "stream",
       "stream": "stderr",
       "text": [
        "8147867\b\b\b\b\b\b\b\b\b\b\b\b\b\b\b\b\b\b\b\b"
       ]
      },
      {
       "output_type": "stream",
       "stream": "stderr",
       "text": [
        "8203971\b\b\b\b\b\b\b\b\b\b\b\b\b\b\b\b\b\b\b\b"
       ]
      },
      {
       "output_type": "stream",
       "stream": "stderr",
       "text": [
        "8148444\b\b\b\b\b\b\b\b\b\b\b\b\b\b\b\b\b\b\b\b"
       ]
      },
      {
       "output_type": "stream",
       "stream": "stderr",
       "text": [
        "8147122\b\b\b\b\b\b\b\b\b\b\b\b\b\b\b\b\b\b\b\b"
       ]
      },
      {
       "output_type": "stream",
       "stream": "stderr",
       "text": [
        "8147826\b\b\b\b\b\b\b\b\b\b\b\b\b\b\b\b\b\b\b\b"
       ]
      },
      {
       "output_type": "stream",
       "stream": "stderr",
       "text": [
        "8147134\b\b\b\b\b\b\b\b\b\b\b\b\b\b\b\b\b\b\b\b"
       ]
      },
      {
       "output_type": "stream",
       "stream": "stderr",
       "text": [
        "8147142\b\b\b\b\b\b\b\b\b\b\b\b\b\b\b\b\b\b\b\b"
       ]
      },
      {
       "output_type": "stream",
       "stream": "stderr",
       "text": [
        "8148649\b\b\b\b\b\b\b\b\b\b\b\b\b\b\b\b\b\b\b\b"
       ]
      },
      {
       "output_type": "stream",
       "stream": "stderr",
       "text": [
        "8147144\b\b\b\b\b\b\b\b\b\b\b\b\b\b\b\b\b\b\b\b"
       ]
      },
      {
       "output_type": "stream",
       "stream": "stderr",
       "text": [
        "8148468\b\b\b\b\b\b\b\b\b\b\b\b\b\b\b\b\b\b\b\b"
       ]
      },
      {
       "output_type": "stream",
       "stream": "stderr",
       "text": [
        "8147148\b\b\b\b\b\b\b\b\b\b\b\b\b\b\b\b\b\b\b\b"
       ]
      },
      {
       "output_type": "stream",
       "stream": "stderr",
       "text": [
        "8147146\b\b\b\b\b\b\b\b\b\b\b\b\b\b\b\b\b\b\b\b"
       ]
      },
      {
       "output_type": "stream",
       "stream": "stderr",
       "text": [
        "8147153\b\b\b\b\b\b\b\b\b\b\b\b\b\b\b\b\b\b\b\b"
       ]
      }
     ],
     "prompt_number": "*"
    },
    {
     "cell_type": "code",
     "collapsed": false,
     "input": [
      "doc_urls = \"http://clerk.house.gov/public_disc/financial-pdfs/2013/{DocID}.pdf\""
     ],
     "language": "python",
     "metadata": {},
     "outputs": [],
     "prompt_number": 36
    },
    {
     "cell_type": "code",
     "collapsed": false,
     "input": [
      "lr = read_in"
     ],
     "language": "python",
     "metadata": {},
     "outputs": [],
     "prompt_number": 37
    },
    {
     "cell_type": "code",
     "collapsed": false,
     "input": [
      "pfd_filenames = []\n",
      "\n",
      "for DocID in DocIDs:\n",
      "    pfd_filenames.append()"
     ],
     "language": "python",
     "metadata": {},
     "outputs": [],
     "prompt_number": 39
    },
    {
     "cell_type": "code",
     "collapsed": false,
     "input": [
      "pfd_filenames"
     ],
     "language": "python",
     "metadata": {},
     "outputs": [
      {
       "metadata": {},
       "output_type": "pyout",
       "prompt_number": 31,
       "text": [
        "[]"
       ]
      }
     ],
     "prompt_number": 31
    },
    {
     "cell_type": "code",
     "collapsed": false,
     "input": [],
     "language": "python",
     "metadata": {},
     "outputs": []
    }
   ],
   "metadata": {}
  }
 ]
}