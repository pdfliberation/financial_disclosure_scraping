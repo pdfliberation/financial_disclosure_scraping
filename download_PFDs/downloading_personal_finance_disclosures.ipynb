{
 "metadata": {
  "name": ""
 },
 "nbformat": 3,
 "nbformat_minor": 0,
 "worksheets": [
  {
   "cells": [
    {
     "cell_type": "code",
     "collapsed": false,
     "input": [
      "import requests\n",
      "import zipfile\n",
      "import StringIO\n",
      "import csv\n",
      "import os"
     ],
     "language": "python",
     "metadata": {},
     "outputs": [],
     "prompt_number": 4
    },
    {
     "cell_type": "code",
     "collapsed": false,
     "input": [
      "working_dir = os.getcwd()"
     ],
     "language": "python",
     "metadata": {},
     "outputs": [],
     "prompt_number": 5
    },
    {
     "cell_type": "code",
     "collapsed": false,
     "input": [
      "INFO_DIR = os.path.join(working_dir,'filing_info')\n",
      "PDF_DIR = os.path.join(working_dir,'pdf_documents')\n",
      "DOC_DIR = os.path.join(PDF_DIR,'PFD')\n",
      "\n",
      "for d in [INFO_DIR, PDF_DIR, DOC_DIR]:\n",
      "    if not os.path.exists(d):\n",
      "        os.mkdir(d)"
     ],
     "language": "python",
     "metadata": {},
     "outputs": [],
     "prompt_number": 6
    },
    {
     "cell_type": "markdown",
     "metadata": {},
     "source": [
      "0. Download list of doc ids from clerk.house.gov"
     ]
    },
    {
     "cell_type": "code",
     "collapsed": false,
     "input": [
      "listing_urls = \"http://clerk.house.gov/public_disc/financial-pdfs/{year}FD.ZIP\""
     ],
     "language": "python",
     "metadata": {},
     "outputs": [],
     "prompt_number": 7
    },
    {
     "cell_type": "markdown",
     "metadata": {},
     "source": [
      "even though forms change over time, we're going to get all of them.  NB, though"
     ]
    },
    {
     "cell_type": "code",
     "collapsed": false,
     "input": [
      "for year in years_available:\n",
      "    r = requests.get(listing_urls.format(year=year))\n",
      "    z = zipfile.ZipFile(StringIO.StringIO(r.content))\n",
      "    z.extract('{year}FD.txt'.format(year=year), path=INFO_DIR)"
     ],
     "language": "python",
     "metadata": {},
     "outputs": [],
     "prompt_number": 8
    },
    {
     "cell_type": "code",
     "collapsed": false,
     "input": [
      "!tree filing_info"
     ],
     "language": "python",
     "metadata": {},
     "outputs": [
      {
       "output_type": "stream",
       "stream": "stdout",
       "text": [
        "\u001b[01;34mfiling_info\u001b[00m\r\n",
        "\u251c\u2500\u2500 2008FD.txt\r\n",
        "\u251c\u2500\u2500 2009FD.txt\r\n",
        "\u251c\u2500\u2500 2010FD.txt\r\n",
        "\u251c\u2500\u2500 2011FD.txt\r\n",
        "\u251c\u2500\u2500 2012FD.txt\r\n",
        "\u251c\u2500\u2500 2013FD.csv\r\n",
        "\u2514\u2500\u2500 2013FD.txt\r\n",
        "\r\n",
        "0 directories, 7 files\r\n"
       ]
      }
     ],
     "prompt_number": 19
    },
    {
     "cell_type": "code",
     "collapsed": false,
     "input": [
      "doc_url = \"http://clerk.house.gov/public_disc/financial-pdfs/{year}/{doc_id}.pdf\"\n",
      "\n",
      "def download_file(url, out_filename):\n",
      "    # NOTE the stream=True parameter\n",
      "    try:\n",
      "        r = requests.get(url, stream=True)\n",
      "        with open(out_filename, 'wb') as f:\n",
      "            for chunk in r.iter_content(chunk_size=1024): \n",
      "                if chunk: # filter out keep-alive new chunks\n",
      "                    f.write(chunk)\n",
      "                    f.flush()\n",
      "        return out_filename\n",
      "    except:\n",
      "        sys.stderr.write('download error: {}\\n'.format(url))\n",
      "        raise\n",
      "\n",
      "def read_info_file(info_file):\n",
      "    my_dialect = csv.Sniffer().sniff(open(info_file).read())\n",
      "    listing_reader = csv.DictReader(open(info_file), dialect=my_dialect)\n",
      "    return listing_reader\n",
      "\n",
      "def get_pdfs_for_year(info_year):\n",
      "    #sys.stderr.write('starting {}\\n'.format(info_year))\n",
      "    info_file = os.path.join(INFO_DIR,'{}FD.txt'.format(info_year))\n",
      "    docs_info = [row for row in read_info_file(info_file)]\n",
      "    downloaded_files = []\n",
      "    years = list(set([di['Year'] for di in docs_info]))\n",
      "    for y in years:\n",
      "        if not os.path.exists(os.path.join(DOC_DIR,str(y))):\n",
      "            os.mkdir(os.path.join(DOC_DIR,str(y)))\n",
      "    for doc_info in docs_info:\n",
      "        #sys.stderr.write(doc_info['DocID']+'\\n')\n",
      "        _dir = os.path.join(DOC_DIR,str(y))\n",
      "        out_filename = os.path.join(_dir, doc_info['DocID']+'.pdf')\n",
      "        if not os.path.exists(out_filename):\n",
      "            download_file(doc_url.format(year=doc_info['Year'], doc_id=doc_info['DocID']), out_filename)\n",
      "            downloaded_files.append(out_filename)\n",
      "    #sys.stderr.write('\\nDone {}\\n'.format(info_year))\n",
      "    sys.stderr.write(\"{year} Finished\\n\".format(year=info_year))\n"
     ],
     "language": "python",
     "metadata": {},
     "outputs": [],
     "prompt_number": 17
    },
    {
     "cell_type": "code",
     "collapsed": false,
     "input": [
      "years_available = xrange(2008,2014)\n",
      "for year in years_available:\n",
      "    get_pdfs_for_year(year)"
     ],
     "language": "python",
     "metadata": {},
     "outputs": [
      {
       "output_type": "stream",
       "stream": "stderr",
       "text": [
        "2008 Finished\n",
        "2009 Finished\n"
       ]
      },
      {
       "output_type": "stream",
       "stream": "stderr",
       "text": [
        "2010 Finished\n",
        "2011 Finished\n"
       ]
      },
      {
       "output_type": "stream",
       "stream": "stderr",
       "text": [
        "2012 Finished\n",
        "2013 Finished\n"
       ]
      }
     ],
     "prompt_number": 18
    },
    {
     "cell_type": "code",
     "collapsed": false,
     "input": [],
     "language": "python",
     "metadata": {},
     "outputs": []
    }
   ],
   "metadata": {}
  }
 ]
}