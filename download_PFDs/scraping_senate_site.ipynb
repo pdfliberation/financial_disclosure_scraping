{
 "metadata": {
  "name": ""
 },
 "nbformat": 3,
 "nbformat_minor": 0,
 "worksheets": [
  {
   "cells": [
    {
     "cell_type": "code",
     "collapsed": false,
     "input": [
      "#TODO: make a selenium scraper for financial disclosures on senate site.\n",
      "\n",
      "senate_url = \"http://www.pfd.senate.gov/index.cfm/searchSelect/\""
     ],
     "language": "python",
     "metadata": {},
     "outputs": [],
     "prompt_number": 1
    },
    {
     "cell_type": "code",
     "collapsed": false,
     "input": [],
     "language": "python",
     "metadata": {},
     "outputs": []
    }
   ],
   "metadata": {}
  }
 ]
}